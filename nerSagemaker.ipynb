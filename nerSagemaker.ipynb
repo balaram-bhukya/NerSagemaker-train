{
 "cells": [
  {
   "cell_type": "code",
   "execution_count": null,
   "metadata": {},
   "outputs": [],
   "source": [
    "import os\n",
    "import boto3\n",
    "import re\n",
    "import copy\n",
    "import time\n",
    "from time import gmtime, strftime\n",
    "from sagemaker import get_execution_role\n",
    "\n",
    "role = get_execution_role()\n",
    "\n",
    "region = boto3.Session().region_name\n",
    "\n",
    "bucket ='resume-ner-sagemaker' # Put your s3 bucket name here"
   ]
  },
  {
   "cell_type": "code",
   "execution_count": 5,
   "metadata": {},
   "outputs": [
    {
     "name": "stdout",
     "output_type": "stream",
     "text": [
      "Collecting sagemaker\n",
      "  Using cached https://files.pythonhosted.org/packages/51/2b/d9ffbd0c9ce6c45b993ddc3f45bb79ece207e1cc53c045de8c020c73036b/sagemaker-1.32.2.tar.gz\n",
      "Collecting boto3>=1.9.169 (from sagemaker)\n",
      "  Using cached https://files.pythonhosted.org/packages/0a/c6/214053d79804f39e6812adb24796df8695b1932783308c0a8849bd73100f/boto3-1.9.184-py2.py3-none-any.whl\n",
      "Requirement already satisfied: numpy>=1.9.0 in /usr/local/lib/python3.5/dist-packages (from sagemaker) (1.16.3)\n",
      "Collecting protobuf>=3.1 (from sagemaker)\n",
      "  Using cached https://files.pythonhosted.org/packages/7c/d2/581ebc3c41879aca2c4fce5c37cdb8d779c4ea79109b6da7f640735ea0a2/protobuf-3.8.0-cp35-cp35m-manylinux1_x86_64.whl\n",
      "Requirement already satisfied: scipy>=0.19.0 in /usr/local/lib/python3.5/dist-packages (from sagemaker) (1.3.0)\n",
      "Collecting urllib3<1.25,>=1.21 (from sagemaker)\n",
      "  Using cached https://files.pythonhosted.org/packages/01/11/525b02e4acc0c747de8b6ccdab376331597c569c42ea66ab0a1dbd36eca2/urllib3-1.24.3-py2.py3-none-any.whl\n",
      "Collecting protobuf3-to-dict>=0.1.5 (from sagemaker)\n",
      "  Using cached https://files.pythonhosted.org/packages/6b/55/522bb43539fed463275ee803d79851faaebe86d17e7e3dbc89870d0322b9/protobuf3-to-dict-0.1.5.tar.gz\n",
      "Collecting docker-compose>=1.23.0 (from sagemaker)\n",
      "  Using cached https://files.pythonhosted.org/packages/dd/e6/1521d1dfd9c0da1d1863b18e592d91c3df222e55f258b9876fa1e59bc4b5/docker_compose-1.24.1-py2.py3-none-any.whl\n",
      "Collecting requests<2.21,>=2.20.0 (from sagemaker)\n",
      "  Using cached https://files.pythonhosted.org/packages/ff/17/5cbb026005115301a8fb2f9b0e3e8d32313142fe8b617070e7baad20554f/requests-2.20.1-py2.py3-none-any.whl\n",
      "Requirement already satisfied: s3transfer<0.3.0,>=0.2.0 in /usr/local/lib/python3.5/dist-packages (from boto3>=1.9.169->sagemaker) (0.2.0)\n",
      "Requirement already satisfied: jmespath<1.0.0,>=0.7.1 in /usr/local/lib/python3.5/dist-packages (from boto3>=1.9.169->sagemaker) (0.9.4)\n",
      "Collecting botocore<1.13.0,>=1.12.184 (from boto3>=1.9.169->sagemaker)\n",
      "  Using cached https://files.pythonhosted.org/packages/5a/7a/d40fabadbdc48fc4c15c087e69ab3f18e776b88662d5d118b03e09847673/botocore-1.12.184-py2.py3-none-any.whl\n",
      "Requirement already satisfied: setuptools in /usr/local/lib/python3.5/dist-packages (from protobuf>=3.1->sagemaker) (41.0.1)\n",
      "Requirement already satisfied: six>=1.9 in /usr/local/lib/python3.5/dist-packages (from protobuf>=3.1->sagemaker) (1.12.0)\n",
      "Collecting texttable<0.10,>=0.9.0 (from docker-compose>=1.23.0->sagemaker)\n",
      "  Using cached https://files.pythonhosted.org/packages/02/e1/2565e6b842de7945af0555167d33acfc8a615584ef7abd30d1eae00a4d80/texttable-0.9.1.tar.gz\n",
      "Collecting docker[ssh]<4.0,>=3.7.0 (from docker-compose>=1.23.0->sagemaker)\n",
      "  Using cached https://files.pythonhosted.org/packages/09/da/7cc7ecdcd01145e9924a8ccbe9c1baf3a362fc75d4cb150676eb5231ea60/docker-3.7.3-py2.py3-none-any.whl\n",
      "Collecting docopt<0.7,>=0.6.1 (from docker-compose>=1.23.0->sagemaker)\n",
      "  Using cached https://files.pythonhosted.org/packages/a2/55/8f8cab2afd404cf578136ef2cc5dfb50baa1761b68c9da1fb1e4eed343c9/docopt-0.6.2.tar.gz\n",
      "Collecting cached-property<2,>=1.2.0 (from docker-compose>=1.23.0->sagemaker)\n",
      "  Using cached https://files.pythonhosted.org/packages/3b/86/85c1be2e8db9e13ef9a350aecd6dea292bd612fa288c2f40d035bb750ded/cached_property-1.5.1-py2.py3-none-any.whl\n",
      "Collecting websocket-client<1.0,>=0.32.0 (from docker-compose>=1.23.0->sagemaker)\n",
      "  Using cached https://files.pythonhosted.org/packages/29/19/44753eab1fdb50770ac69605527e8859468f3c0fd7dc5a76dd9c4dbd7906/websocket_client-0.56.0-py2.py3-none-any.whl\n",
      "Collecting jsonschema<3,>=2.5.1 (from docker-compose>=1.23.0->sagemaker)\n",
      "  Using cached https://files.pythonhosted.org/packages/77/de/47e35a97b2b05c2fadbec67d44cfcdcd09b8086951b331d82de90d2912da/jsonschema-2.6.0-py2.py3-none-any.whl\n",
      "Collecting dockerpty<0.5,>=0.4.1 (from docker-compose>=1.23.0->sagemaker)\n",
      "  Using cached https://files.pythonhosted.org/packages/8d/ee/e9ecce4c32204a6738e0a5d5883d3413794d7498fe8b06f44becc028d3ba/dockerpty-0.4.1.tar.gz\n",
      "Collecting PyYAML<4.3,>=3.10 (from docker-compose>=1.23.0->sagemaker)\n",
      "  Using cached https://files.pythonhosted.org/packages/9e/a3/1d13970c3f36777c583f136c136f804d70f500168edc1edea6daa7200769/PyYAML-3.13.tar.gz\n",
      "Requirement already satisfied: certifi>=2017.4.17 in /usr/local/lib/python3.5/dist-packages (from requests<2.21,>=2.20.0->sagemaker) (2019.3.9)\n",
      "Collecting idna<2.8,>=2.5 (from requests<2.21,>=2.20.0->sagemaker)\n",
      "  Using cached https://files.pythonhosted.org/packages/4b/2a/0276479a4b3caeb8a8c1af2f8e4355746a97fab05a372e4a2c6a6b876165/idna-2.7-py2.py3-none-any.whl\n",
      "Requirement already satisfied: chardet<3.1.0,>=3.0.2 in /usr/local/lib/python3.5/dist-packages (from requests<2.21,>=2.20.0->sagemaker) (3.0.4)\n",
      "Requirement already satisfied: docutils>=0.10 in /usr/local/lib/python3.5/dist-packages (from botocore<1.13.0,>=1.12.184->boto3>=1.9.169->sagemaker) (0.14)\n",
      "Requirement already satisfied: python-dateutil<3.0.0,>=2.1; python_version >= \"2.7\" in /usr/local/lib/python3.5/dist-packages (from botocore<1.13.0,>=1.12.184->boto3>=1.9.169->sagemaker) (2.8.0)\n",
      "Collecting docker-pycreds>=0.4.0 (from docker[ssh]<4.0,>=3.7.0->docker-compose>=1.23.0->sagemaker)\n",
      "  Using cached https://files.pythonhosted.org/packages/f5/e8/f6bd1eee09314e7e6dee49cbe2c5e22314ccdb38db16c9fc72d2fa80d054/docker_pycreds-0.4.0-py2.py3-none-any.whl\n",
      "Collecting paramiko>=2.4.2; extra == \"ssh\" (from docker[ssh]<4.0,>=3.7.0->docker-compose>=1.23.0->sagemaker)\n",
      "  Using cached https://files.pythonhosted.org/packages/4b/80/74dace9e48b0ef923633dfb5e48798f58a168e4734bca8ecfaf839ba051a/paramiko-2.6.0-py2.py3-none-any.whl\n",
      "Collecting pynacl>=1.0.1 (from paramiko>=2.4.2; extra == \"ssh\"->docker[ssh]<4.0,>=3.7.0->docker-compose>=1.23.0->sagemaker)\n",
      "  Using cached https://files.pythonhosted.org/packages/27/15/2cd0a203f318c2240b42cd9dd13c931ddd61067809fee3479f44f086103e/PyNaCl-1.3.0-cp34-abi3-manylinux1_x86_64.whl\n",
      "Collecting cryptography>=2.5 (from paramiko>=2.4.2; extra == \"ssh\"->docker[ssh]<4.0,>=3.7.0->docker-compose>=1.23.0->sagemaker)\n",
      "  Using cached https://files.pythonhosted.org/packages/97/18/c6557f63a6abde34707196fb2cad1c6dc0dbff25a200d5044922496668a4/cryptography-2.7-cp34-abi3-manylinux1_x86_64.whl\n",
      "Collecting bcrypt>=3.1.3 (from paramiko>=2.4.2; extra == \"ssh\"->docker[ssh]<4.0,>=3.7.0->docker-compose>=1.23.0->sagemaker)\n",
      "  Using cached https://files.pythonhosted.org/packages/8b/1d/82826443777dd4a624e38a08957b975e75df859b381ae302cfd7a30783ed/bcrypt-3.1.7-cp34-abi3-manylinux1_x86_64.whl\n",
      "Collecting cffi>=1.4.1 (from pynacl>=1.0.1->paramiko>=2.4.2; extra == \"ssh\"->docker[ssh]<4.0,>=3.7.0->docker-compose>=1.23.0->sagemaker)\n",
      "  Using cached https://files.pythonhosted.org/packages/62/76/135eeffe0089e6724bdd65c1bf9f1654db9b47783e65b8d9f1454c540d8b/cffi-1.12.3-cp35-cp35m-manylinux1_x86_64.whl\n",
      "Collecting asn1crypto>=0.21.0 (from cryptography>=2.5->paramiko>=2.4.2; extra == \"ssh\"->docker[ssh]<4.0,>=3.7.0->docker-compose>=1.23.0->sagemaker)\n",
      "  Using cached https://files.pythonhosted.org/packages/ea/cd/35485615f45f30a510576f1a56d1e0a7ad7bd8ab5ed7cdc600ef7cd06222/asn1crypto-0.24.0-py2.py3-none-any.whl\n",
      "Collecting pycparser (from cffi>=1.4.1->pynacl>=1.0.1->paramiko>=2.4.2; extra == \"ssh\"->docker[ssh]<4.0,>=3.7.0->docker-compose>=1.23.0->sagemaker)\n",
      "  Using cached https://files.pythonhosted.org/packages/68/9e/49196946aee219aead1290e00d1e7fdeab8567783e83e1b9ab5585e6206a/pycparser-2.19.tar.gz\n",
      "Installing collected packages: urllib3, botocore, boto3, protobuf, protobuf3-to-dict, texttable, idna, requests, websocket-client, docker-pycreds, pycparser, cffi, pynacl, asn1crypto, cryptography, bcrypt, paramiko, docker, docopt, cached-property, jsonschema, dockerpty, PyYAML, docker-compose, sagemaker\n",
      "  Running setup.py install for protobuf3-to-dict ... \u001b[?25ldone\n",
      "\u001b[?25h  Running setup.py install for texttable ... \u001b[?25ldone\n",
      "\u001b[?25h  Running setup.py install for pycparser ... \u001b[?25ldone\n",
      "\u001b[?25h  Running setup.py install for docopt ... \u001b[?25ldone\n",
      "\u001b[33m  WARNING: The script jsonschema is installed in '/home/Balaram_bhukya/.local/bin' which is not on PATH.\n",
      "  Consider adding this directory to PATH or, if you prefer to suppress this warning, use --no-warn-script-location.\u001b[0m\n"
     ]
    },
    {
     "name": "stdout",
     "output_type": "stream",
     "text": [
      "\u001b[?25h  Running setup.py install for dockerpty ... \u001b[?25ldone\n",
      "\u001b[?25h  Running setup.py install for PyYAML ... \u001b[?25ldone\n",
      "\u001b[33m  WARNING: The script docker-compose is installed in '/home/Balaram_bhukya/.local/bin' which is not on PATH.\n",
      "  Consider adding this directory to PATH or, if you prefer to suppress this warning, use --no-warn-script-location.\u001b[0m\n",
      "\u001b[?25h  Running setup.py install for sagemaker ... \u001b[?25ldone\n",
      "\u001b[?25hSuccessfully installed PyYAML-3.13 asn1crypto-0.24.0 bcrypt-3.1.7 boto3-1.9.184 botocore-1.12.184 cached-property-1.5.1 cffi-1.12.3 cryptography-2.7 docker-3.7.3 docker-compose-1.24.1 docker-pycreds-0.4.0 dockerpty-0.4.1 docopt-0.6.2 idna-2.7 jsonschema-2.6.0 paramiko-2.6.0 protobuf-3.8.0 protobuf3-to-dict-0.1.5 pycparser-2.19 pynacl-1.3.0 requests-2.20.1 sagemaker-1.32.2 texttable-0.9.1 urllib3-1.24.3 websocket-client-0.56.0\n"
     ]
    }
   ],
   "source": [
    "!pip3 install --user sagemaker "
   ]
  }
 ],
 "metadata": {
  "kernelspec": {
   "display_name": "Python 3",
   "language": "python",
   "name": "python3"
  },
  "language_info": {
   "codemirror_mode": {
    "name": "ipython",
    "version": 3
   },
   "file_extension": ".py",
   "mimetype": "text/x-python",
   "name": "python",
   "nbconvert_exporter": "python",
   "pygments_lexer": "ipython3",
   "version": "3.5.2"
  }
 },
 "nbformat": 4,
 "nbformat_minor": 2
}
